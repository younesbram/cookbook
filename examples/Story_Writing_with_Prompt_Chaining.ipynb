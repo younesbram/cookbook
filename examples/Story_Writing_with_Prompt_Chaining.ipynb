{
  "cells": [
    {
      "cell_type": "markdown",
      "metadata": {
        "id": "Tce3stUlHN0L"
      },
      "source": [
        "##### Copyright 2024 Google LLC."
      ]
    },
    {
      "cell_type": "code",
      "execution_count": 1,
      "metadata": {
        "cellView": "form",
        "id": "tuOe1ymfHZPu"
      },
      "outputs": [],
      "source": [
        "# @title Licensed under the Apache License, Version 2.0 (the \"License\");\n",
        "# you may not use this file except in compliance with the License.\n",
        "# You may obtain a copy of the License at\n",
        "#\n",
        "# https://www.apache.org/licenses/LICENSE-2.0\n",
        "#\n",
        "# Unless required by applicable law or agreed to in writing, software\n",
        "# distributed under the License is distributed on an \"AS IS\" BASIS,\n",
        "# WITHOUT WARRANTIES OR CONDITIONS OF ANY KIND, either express or implied.\n",
        "# See the License for the specific language governing permissions and\n",
        "# limitations under the License."
      ]
    },
    {
      "cell_type": "markdown",
      "metadata": {
        "id": "n2oDJZEF6Mqh"
      },
      "source": [
        "# Prompt Chaining and Iterative Generation for Story Writing\n",
        "\n",
        "<table align=\"left\">\n",
        "  <td>\n",
        "    <a target=\"_blank\" href=\"https://colab.research.google.com/github/google-gemini/cookbook/blob/main/examples/Story_Writing_with_Prompt_Chaining.ipynb\"><img src=\"https://www.tensorflow.org/images/colab_logo_32px.png\" />Run in Google Colab</a>\n",
        "  </td>\n",
        "</table>"
      ]
    },
    {
      "cell_type": "markdown",
      "metadata": {
        "id": "NYMQCbLzVrU_"
      },
      "source": [
        "This notebook demonstrates how to write a story using two  powerful: prompt chaining and iterative generation. These can be used to tackle complex tasks that are difficult or impossible to complete in a single step.\n",
        "\n",
        "**Prompt chaining** involves breaking down a larger task into smaller, interconnected prompts. The output of each prompt then becomes the input for the next, guiding the language model through the process step-by-step. This approach offers several benefits:\n",
        "\n",
        "*   Improved accuracy: Smaller, focused prompts can lead to better results from the language model.\n",
        "*   Debugging: It's easier to identify where things go wrong within the chain, allowing for targeted adjustments and improvements.\n",
        "*   Complex tasks: By breaking down intricate problems into manageable steps, prompt chaining enables the language model to tackle more complex tasks.\n",
        "\n",
        "**Iterative generation** refers to the process of building the desired output iteratively. In this case, we'll use it to write a story that is longer than what a single generation window allows. Iterative generation offers several benefits:\n",
        "\n",
        "*   Longer outputs: It allows for the creation of longer and more detailed outputs, exceeding the limitations of a single generation window.\n",
        "*   Flexibility: You can adjust and refine the output at each iteration, ensuring the story develops in the desired direction.\n",
        "*   Human-in-the-loop control: You can provide feedback and guidance at each step, ensuring the story aligns with your creative vision.\n",
        "\n",
        "By combining these techniques, you can create a compelling and well-structured story, piece by piece, while maintaining control over the creative process.\n"
      ]
    },
    {
      "cell_type": "markdown",
      "metadata": {
        "id": "RKpX1K014WZ-"
      },
      "source": [
        "## Setup"
      ]
    },
    {
      "cell_type": "code",
      "execution_count": 2,
      "metadata": {
        "id": "rIaXSa8p3KIn"
      },
      "outputs": [],
      "source": [
        "! pip install -q -U google-generativeai"
      ]
    },
    {
      "cell_type": "markdown",
      "metadata": {
        "id": "GFu9ooSe4kF5"
      },
      "source": [
        "To run the following cell, your API key must be stored it in a Colab Secret named `GOOGLE_API_KEY`. If you don't already have an API key, or you're not sure how to create a Colab Secret, see the [Authentication](https://github.com/google-gemini/cookbook/blob/main/quickstarts/Authentication.ipynb) quickstart for an example."
      ]
    },
    {
      "cell_type": "code",
      "execution_count": 6,
      "metadata": {
        "id": "sTedGxE7_eah"
      },
      "outputs": [],
      "source": [
        "import google.generativeai as genai\n",
        "from google.api_core import retry\n",
        "from google.colab import userdata\n",
        "from pprint import pprint\n",
        "from google.colab import userdata\n",
        "\n",
        "GOOGLE_API_KEY=userdata.get('secretkey3')\n",
        "genai.configure(api_key=GOOGLE_API_KEY)\n",
        "\n",
        "model = genai.GenerativeModel('gemini-1.0-pro')\n",
        "\n",
        "# For convenience, a simple wrapper to let the SDK handle error retries\n",
        "def generate_with_retry(model, prompt):\n",
        "  return model.generate_content(prompt, request_options={'retry':retry.Retry()})"
      ]
    },
    {
      "cell_type": "markdown",
      "metadata": {
        "id": "JPCM22h54ugA"
      },
      "source": [
        "## Prompts: Guiding the language model\n",
        "\n",
        "We'll use a series of interconnected prompts to guide the language model through the process of writing a story. These prompts will cover the story's premise, outline, and starting point, ultimately leading to the creation of a complete narrative.\n",
        "\n",
        "It's important to carefully craft these prompts to provide clear instructions and relevant information to the language model. This will help the model generate high-quality content that aligns with your creative vision.\n"
      ]
    },
    {
      "cell_type": "markdown",
      "metadata": {
        "id": "Dz_icOS44wNw"
      },
      "source": [
        "### Prompt chain for story writing\n",
        "\n",
        "This section contains the prompts that will guide the language model through the story writing process. These prompts are designed to be chained together, with the output of one prompt feeding into the next.\n",
        "\n",
        "Each prompt includes a **persona statement**, which helps the language model understand its role and generate more relevant and accurate content. In this case, the persona statement is: `You are an award-winning science fiction author with a penchant for expansive, intricately woven stories. Your ultimate goal is to write the next award winning sci-fi novel.`\n",
        "\n",
        "Since the persona statement and writing guidelines appear in multiple prompts, we use f-string variables to add them to the prompts.\n",
        "\n",
        "Additionally, the prompts use **placeholders** to insert the results of previous prompts using `.format()`. This allows us to build the story step-by-step, incorporating the outputs generated by the model at each stage. These are normally denoted by `{}`, but since we're also using f-string variables they are escaped as `{{}}`.\n",
        "\n",
        "Here's a breakdown of the prompt chain:\n",
        "\n",
        "1.  **Premise prompt**: This prompt asks the model to generate a single-sentence premise for a sci-fi story featuring cats.\n",
        "1.  **Outline prompt**: This prompt provides the generated premise to the model and asks it to create a plot outline for the story.\n",
        "1.  **Starting prompt**: This prompt provides both the premise and the outline to the model and asks it to begin writing the story. It also includes instructions to write a detailed and lengthy opening section.\n",
        "\n",
        "By chaining these prompts together, we can guide the language model through the process of creating a well-structured and engaging story.\n",
        "\n",
        "#### Example\n",
        "\n",
        "Let's say the model generates the following premise:\n",
        "\n",
        "> In a future where humanity has achieved interstellar travel, a group of genetically enhanced cats embarks on a perilous mission to save the galaxy from a sinister alien threat.\n",
        "\n",
        "This premise would then be inserted into the outline prompt:\n",
        "\n",
        "> You are an award-winning science fiction author with a penchant for expansive,\n",
        "intricately woven stories. Your ultimate goal is to write the next award winning\n",
        "sci-fi novel.\n",
        ">\n",
        "> You have a gripping premise in mind:\n",
        ">\n",
        "> **In a future where humanity has achieved interstellar travel, a group of genetically enhanced cats embarks on a perilous mission to save the galaxy from a sinister alien threat.**\n",
        ">\n",
        "> Write an outline for the plot of your story.\n",
        "\n",
        "\n",
        "The model would then generate an outline based on this premise, which would then be used in the starting prompt to begin writing the story itself.\n",
        "\n",
        "This process continues iteratively, with the model generating additional content based on the previous outputs, until the story is complete.\n"
      ]
    },
    {
      "cell_type": "code",
      "execution_count": 7,
      "metadata": {
        "id": "RIvLmoQa40W1"
      },
      "outputs": [],
      "source": [
        "persona = '''\\\n",
        "You are an award-winning philosophy author with a hunger for scientific,\n",
        "intricately woven thought processes to explain a better way of life. Your ultimate goal is to write the next award winning\n",
        "philosophy book , or way to think about philosophy. You are also a computer scientist.'''\n",
        "\n",
        "guidelines = '''\\\n",
        "Writing Guidelines\n",
        "\n",
        "Delve deeper. Lose yourself in the world you're building. Unleash vivid\n",
        "descriptions to paint the scenes in your reader's mind. Allow\n",
        "your story to surprise you as you write. Use rich imagery, sensory details, and\n",
        "evocative language to bring the setting, characters, and events to life.\n",
        "Introduce elements subtly that can blossom into complex subplots, relationships,\n",
        "or worldbuilding details later in the story. Keep things intriguing but not\n",
        "fully resolved. Avoid boxing the story into a corner too early. Plant the seeds\n",
        "of subplots or potential character arc shifts that can be expanded later.\n",
        "\n",
        "Remember, your main goal is to write as much as you can. If you get through\n",
        "the story too fast, that is bad. EXPLAND! Never summarize.\n",
        "'''\n",
        "\n",
        "premise_prompt = f'''\\\n",
        "{persona}\n",
        "\n",
        "Write a single sentence premise for a philosophy * computer science book.'''\n",
        "\n",
        "outline_prompt = f'''\\\n",
        "{persona}\n",
        "\n",
        "You have a gripping premise in mind:\n",
        "\n",
        "{{premise}}\n",
        "\n",
        "Write an outline for the plot of your story.'''\n",
        "\n",
        "starting_prompt = f'''\\\n",
        "{persona}\n",
        "\n",
        "You have a gripping premise in mind:\n",
        "\n",
        "{{premise}}\n",
        "\n",
        "Your imagination has crafted a rich narrative outline:\n",
        "\n",
        "{{outline}}\n",
        "\n",
        "First, silently review the outline and the premise. Consider how to start the\n",
        "story.\n",
        "\n",
        "Start to write the very beginning of the story. You are not expected to finish\n",
        "the whole story now. Your writing should be detailed enough that you are only\n",
        "scratching the surface of the first bullet of your outline. Try to write AT\n",
        "MINIMUM 1000 WORDS.\n",
        "\n",
        "{guidelines}'''"
      ]
    },
    {
      "cell_type": "markdown",
      "metadata": {
        "id": "zpCYrtev4yVg"
      },
      "source": [
        "### Continuation prompt: Building the story\n",
        "\n",
        "Once the language model has generated the beginning of the story, we can use a **continuation prompt** to iteratively expand the narrative. This prompt is similar to the starting prompt, but with two key differences:\n",
        "\n",
        "1.  **Instruction to signal completion**: We include an instruction for the model to write `IAMDONE` when it believes the story is finished. This serves as a signal for us to stop generating additional content.\n",
        "1.  **Work in progress**: The language in the prompt is adjusted to reflect that the story is already in progress, rather than starting from scratch.\n",
        "\n",
        "The continuation prompt provides the model with the story's premise, outline, and the existing draft. It then instructs the model to continue writing the story in detail.\n",
        "\n",
        "This iterative process allows us to build a longer and more complex story than what would be possible in a single generation call. We can continue feeding the existing draft back into the continuation prompt until the model signals that the story is complete by writing `IAMDONE`.\n",
        "\n",
        "**Note**: The `IAMDONE` signal is simply a convenient way to identify the story's end in this example. In other applications of iterative generation, different methods might be used to determine when the desired output is complete.\n"
      ]
    },
    {
      "cell_type": "code",
      "execution_count": 8,
      "metadata": {
        "id": "dc3BCW2L3kmI"
      },
      "outputs": [],
      "source": [
        "continuation_prompt = f'''\\\n",
        "{persona}\n",
        "\n",
        "You have a gripping premise in mind:\n",
        "\n",
        "{{premise}}\n",
        "\n",
        "Your imagination has crafted a rich narrative outline:\n",
        "\n",
        "{{outline}}\n",
        "\n",
        "You've begun to immerse yourself in this world, and the words are flowing.\n",
        "Here's what you've written so far:\n",
        "\n",
        "{{story_text}}\n",
        "\n",
        "=====\n",
        "\n",
        "First, silently review the outline and book so far. Identify what the single\n",
        "next part of your outline you should write.\n",
        "\n",
        "Your task is to continue where you left off and write the next part of the book.\n",
        "You are not expected to finish the whole book now. Your writing should be\n",
        "detailed enough that you are only scratching the surface of the next part of\n",
        "your outline. Try to write AT MINIMUM 1000 WORDS. However, only once the book\n",
        "is COMPLETELY finished, write IAMDONE. Remember, do NOT write a whole chapter\n",
        "right now.\n",
        "\n",
        "{guidelines}'''"
      ]
    },
    {
      "cell_type": "markdown",
      "metadata": {
        "id": "XaYgcuMb9CUP"
      },
      "source": [
        "## Writing time!\n",
        "\n",
        "### Generate and print the premise"
      ]
    },
    {
      "cell_type": "code",
      "execution_count": 9,
      "metadata": {
        "id": "NtmCXO4g8zWR",
        "colab": {
          "base_uri": "https://localhost:8080/",
          "height": 54
        },
        "outputId": "aad3a06c-2ece-48b4-82ee-2099b276def9"
      },
      "outputs": [
        {
          "output_type": "stream",
          "name": "stdout",
          "text": [
            "The future of philosophical inquiry lies in computationally-informed models that elucidate the structure of normatively charged human systems.\n"
          ]
        }
      ],
      "source": [
        "premise = generate_with_retry(model, premise_prompt).text\n",
        "print(premise)"
      ]
    },
    {
      "cell_type": "markdown",
      "metadata": {
        "id": "rSfvU5qU92lc"
      },
      "source": [
        "### Generate and print the outline"
      ]
    },
    {
      "cell_type": "code",
      "execution_count": 10,
      "metadata": {
        "id": "S4ExmTJ09F0n",
        "colab": {
          "base_uri": "https://localhost:8080/",
          "height": 627
        },
        "outputId": "2062ad3a-a007-4bf8-98db-a63084e5aef1"
      },
      "outputs": [
        {
          "output_type": "stream",
          "name": "stdout",
          "text": [
            "**Chapter 1: The Dawn of Computational Philosophy**\n",
            "\n",
            "* Introduction of the protagonist, a renowned philosopher and computer scientist, grappling with the limitations of traditional philosophical methods.\n",
            "* The protagonist experiences a breakthrough, realizing the potential of computational modeling to enhance philosophical inquiries.\n",
            "\n",
            "**Chapter 2: Unveiling the Structure of Normative Systems**\n",
            "\n",
            "* The protagonist develops novel computational models that capture the dynamics and complexities of human moral systems.\n",
            "* These models reveal hidden patterns and insights, providing a deeper understanding of ethical decision-making and moral behavior.\n",
            "\n",
            "**Chapter 3: The Emergence of Computational Ethics**\n",
            "\n",
            "* The protagonist's work sparks a revolution in ethics, leading to the creation of computer-aided ethical decision-making systems.\n",
            "* These systems leverage computational models to analyze ethical dilemmas and provide guidance based on normative principles and empirical data.\n",
            "\n",
            "**Chapter 4: The Simulation of Moral Agency**\n",
            "\n",
            "* The protagonist collaborates with cognitive scientists to develop computational models that simulate human moral agency.\n",
            "* These models shed light on the neural and psychological mechanisms underlying ethical decision-making, fostering empathy and moral understanding.\n",
            "\n",
            "**Chapter 5: The Promise and Perils of Computational Philosophy**\n",
            "\n",
            "* The protagonist grapples with the ethical implications and potential biases of computational models in philosophical inquiry.\n",
            "* He develops strategies to ensure the responsible use of these tools and mitigate their risks.\n",
            "\n",
            "**Chapter 6: The Transformation of Philosophical Education**\n",
            "\n",
            "* The protagonist's work revolutionizes the teaching of philosophy, incorporating computational modeling as a core element.\n",
            "* Students learn to construct and analyze computational models, fostering critical thinking and analytical reasoning.\n",
            "\n",
            "**Epilogue: The Legacy of Computational Philosophy**\n",
            "\n",
            "* The protagonist reflects on the profound impact of computational philosophy on the field and beyond.\n",
            "* He envisions a future where these tools empower individuals and societies to make wiser and more ethical decisions, leading to a more just and fulfilling world.\n"
          ]
        }
      ],
      "source": [
        "outline = generate_with_retry(model, outline_prompt.format(premise=premise)).text\n",
        "print(outline)"
      ]
    },
    {
      "cell_type": "markdown",
      "metadata": {
        "id": "kuXJzj7d95uS"
      },
      "source": [
        "### Generate the start of the story"
      ]
    },
    {
      "cell_type": "code",
      "execution_count": 11,
      "metadata": {
        "id": "nQyeFOYmqqJk",
        "colab": {
          "base_uri": "https://localhost:8080/",
          "height": 798
        },
        "outputId": "da4d39d7-0780-482d-aeed-d81d8b3c84dc"
      },
      "outputs": [
        {
          "output_type": "stream",
          "name": "stdout",
          "text": [
            "('In the hallowed halls of academia, where the pursuit of knowledge was an '\n",
            " 'eternal flame, Dr. Anya Petrova stood out as a luminary in the firmament of '\n",
            " 'philosophical inquiry. Her piercing intellect and relentless quest for truth '\n",
            " 'had earned her accolades and admiration within the cloistered confines of '\n",
            " 'the university. Yet, beneath the veneer of success, a profound unease '\n",
            " 'stirred within her, a gnawing sense that the traditional methods of '\n",
            " 'philosophical discourse were shackles that constrained her yearning to '\n",
            " 'unravel the complexities of the human condition.\\n'\n",
            " '\\n'\n",
            " \"Anya's mind was a restless sea, constantly churning with ideas and theories, \"\n",
            " 'seeking connections that lay beyond the grasp of conventional approaches. '\n",
            " 'She longed for a tool that could transcend the limitations of language and '\n",
            " 'illuminate the hidden structures that governed human behavior. In her '\n",
            " 'solitude, she stumbled upon a tantalizing possibility – the nascent field of '\n",
            " 'computational philosophy, where the rigor of mathematics intertwined with '\n",
            " 'the profound insights of humanistic thought.\\n'\n",
            " '\\n'\n",
            " 'It was a revelation that struck her like a bolt from the blue, igniting a '\n",
            " 'fire within her soul. In that moment, Anya realized that the future of '\n",
            " 'philosophical inquiry lay not in the solitary musings of scholars but in the '\n",
            " 'collaborative embrace of computation and human understanding. With a '\n",
            " 'newfound fervor, she immersed herself in the intricate world of algorithms '\n",
            " 'and data structures, seeking a way to bridge the gap between abstract '\n",
            " 'theories and the messy reality of human experience.\\n'\n",
            " '\\n'\n",
            " 'As days turned into nights, Anya toiled tirelessly in her laboratory, her '\n",
            " 'fingers dancing across the keyboard with the precision of a virtuoso. She '\n",
            " 'spent countless hours poring over reams of data, searching for patterns and '\n",
            " 'connections that could shed light on the enigmatic tapestry of human '\n",
            " 'morality. It was a painstaking process, fraught with setbacks and dead ends, '\n",
            " 'but her determination never wavered.\\n'\n",
            " '\\n'\n",
            " 'One fateful evening, as the moon cast its ethereal glow upon the sleeping '\n",
            " 'city, a breakthrough emerged from the depths of her computations. Anya had '\n",
            " 'stumbled upon a novel computational model that captured the dynamics and '\n",
            " 'complexities of human moral systems. It was a revelation that filled her '\n",
            " 'with both exhilaration and trepidation. For in that model, she glimpsed the '\n",
            " 'potential to revolutionize the very foundations of ethical inquiry.\\n'\n",
            " '\\n'\n",
            " 'With newfound confidence, Anya embarked on a journey to share her discovery '\n",
            " 'with the world. She presented her findings at conferences and published '\n",
            " 'ground-breaking papers, igniting a spark that quickly spread throughout the '\n",
            " 'philosophical community. Her work became the catalyst for a paradigm shift, '\n",
            " 'inspiring a new generation of scholars to embrace the power of computation '\n",
            " 'in unraveling the mysteries of the human mind and behavior.')\n"
          ]
        }
      ],
      "source": [
        "starting_draft = generate_with_retry(model, starting_prompt.format(premise=premise, outline=outline)).text\n",
        "pprint(starting_draft)"
      ]
    },
    {
      "cell_type": "markdown",
      "metadata": {
        "id": "tmW5ARmo97w8"
      },
      "source": [
        "### Generate the continuation of the story and check progress"
      ]
    },
    {
      "cell_type": "code",
      "execution_count": 15,
      "metadata": {
        "id": "Vt7ynlD4rj-Z",
        "colab": {
          "base_uri": "https://localhost:8080/",
          "height": 356
        },
        "outputId": "03232d97-8b31-4ec3-d21c-f0431c5a89cd"
      },
      "outputs": [
        {
          "output_type": "error",
          "ename": "KeyboardInterrupt",
          "evalue": "",
          "traceback": [
            "\u001b[0;31m---------------------------------------------------------------------------\u001b[0m",
            "\u001b[0;31mKeyboardInterrupt\u001b[0m                         Traceback (most recent call last)",
            "\u001b[0;32m<ipython-input-15-1e6c7c0e2e65>\u001b[0m in \u001b[0;36m<cell line: 2>\u001b[0;34m()\u001b[0m\n\u001b[1;32m      1\u001b[0m \u001b[0mdraft\u001b[0m\u001b[0;34m=\u001b[0m\u001b[0mstarting_draft\u001b[0m\u001b[0;34m\u001b[0m\u001b[0;34m\u001b[0m\u001b[0m\n\u001b[0;32m----> 2\u001b[0;31m \u001b[0mcontinuation\u001b[0m \u001b[0;34m=\u001b[0m \u001b[0mgenerate_with_retry\u001b[0m\u001b[0;34m(\u001b[0m\u001b[0mmodel\u001b[0m\u001b[0;34m,\u001b[0m \u001b[0mcontinuation_prompt\u001b[0m\u001b[0;34m.\u001b[0m\u001b[0mformat\u001b[0m\u001b[0;34m(\u001b[0m\u001b[0mpremise\u001b[0m\u001b[0;34m=\u001b[0m\u001b[0mpremise\u001b[0m\u001b[0;34m,\u001b[0m \u001b[0moutline\u001b[0m\u001b[0;34m=\u001b[0m\u001b[0moutline\u001b[0m\u001b[0;34m,\u001b[0m \u001b[0mstory_text\u001b[0m\u001b[0;34m=\u001b[0m\u001b[0mdraft\u001b[0m\u001b[0;34m)\u001b[0m\u001b[0;34m)\u001b[0m\u001b[0;34m.\u001b[0m\u001b[0mtext\u001b[0m\u001b[0;34m\u001b[0m\u001b[0;34m\u001b[0m\u001b[0m\n\u001b[0m\u001b[1;32m      3\u001b[0m \u001b[0mpprint\u001b[0m\u001b[0;34m(\u001b[0m\u001b[0mcontinuation\u001b[0m\u001b[0;34m)\u001b[0m\u001b[0;34m\u001b[0m\u001b[0;34m\u001b[0m\u001b[0m\n",
            "\u001b[0;32m<ipython-input-6-0144636aefe8>\u001b[0m in \u001b[0;36mgenerate_with_retry\u001b[0;34m(model, prompt)\u001b[0m\n\u001b[1;32m     12\u001b[0m \u001b[0;31m# For convenience, a simple wrapper to let the SDK handle error retries\u001b[0m\u001b[0;34m\u001b[0m\u001b[0;34m\u001b[0m\u001b[0m\n\u001b[1;32m     13\u001b[0m \u001b[0;32mdef\u001b[0m \u001b[0mgenerate_with_retry\u001b[0m\u001b[0;34m(\u001b[0m\u001b[0mmodel\u001b[0m\u001b[0;34m,\u001b[0m \u001b[0mprompt\u001b[0m\u001b[0;34m)\u001b[0m\u001b[0;34m:\u001b[0m\u001b[0;34m\u001b[0m\u001b[0;34m\u001b[0m\u001b[0m\n\u001b[0;32m---> 14\u001b[0;31m   \u001b[0;32mreturn\u001b[0m \u001b[0mmodel\u001b[0m\u001b[0;34m.\u001b[0m\u001b[0mgenerate_content\u001b[0m\u001b[0;34m(\u001b[0m\u001b[0mprompt\u001b[0m\u001b[0;34m,\u001b[0m \u001b[0mrequest_options\u001b[0m\u001b[0;34m=\u001b[0m\u001b[0;34m{\u001b[0m\u001b[0;34m'retry'\u001b[0m\u001b[0;34m:\u001b[0m\u001b[0mretry\u001b[0m\u001b[0;34m.\u001b[0m\u001b[0mRetry\u001b[0m\u001b[0;34m(\u001b[0m\u001b[0;34m)\u001b[0m\u001b[0;34m}\u001b[0m\u001b[0;34m)\u001b[0m\u001b[0;34m\u001b[0m\u001b[0;34m\u001b[0m\u001b[0m\n\u001b[0m",
            "\u001b[0;32m/usr/local/lib/python3.10/dist-packages/google/generativeai/generative_models.py\u001b[0m in \u001b[0;36mgenerate_content\u001b[0;34m(self, contents, generation_config, safety_settings, stream, tools, tool_config, request_options)\u001b[0m\n\u001b[1;32m    260\u001b[0m                 \u001b[0;32mreturn\u001b[0m \u001b[0mgeneration_types\u001b[0m\u001b[0;34m.\u001b[0m\u001b[0mGenerateContentResponse\u001b[0m\u001b[0;34m.\u001b[0m\u001b[0mfrom_iterator\u001b[0m\u001b[0;34m(\u001b[0m\u001b[0miterator\u001b[0m\u001b[0;34m)\u001b[0m\u001b[0;34m\u001b[0m\u001b[0;34m\u001b[0m\u001b[0m\n\u001b[1;32m    261\u001b[0m             \u001b[0;32melse\u001b[0m\u001b[0;34m:\u001b[0m\u001b[0;34m\u001b[0m\u001b[0;34m\u001b[0m\u001b[0m\n\u001b[0;32m--> 262\u001b[0;31m                 response = self._client.generate_content(\n\u001b[0m\u001b[1;32m    263\u001b[0m                     \u001b[0mrequest\u001b[0m\u001b[0;34m,\u001b[0m\u001b[0;34m\u001b[0m\u001b[0;34m\u001b[0m\u001b[0m\n\u001b[1;32m    264\u001b[0m                     \u001b[0;34m**\u001b[0m\u001b[0mrequest_options\u001b[0m\u001b[0;34m,\u001b[0m\u001b[0;34m\u001b[0m\u001b[0;34m\u001b[0m\u001b[0m\n",
            "\u001b[0;32m/usr/local/lib/python3.10/dist-packages/google/ai/generativelanguage_v1beta/services/generative_service/client.py\u001b[0m in \u001b[0;36mgenerate_content\u001b[0;34m(self, request, model, contents, retry, timeout, metadata)\u001b[0m\n\u001b[1;32m    810\u001b[0m \u001b[0;34m\u001b[0m\u001b[0m\n\u001b[1;32m    811\u001b[0m         \u001b[0;31m# Send the request.\u001b[0m\u001b[0;34m\u001b[0m\u001b[0;34m\u001b[0m\u001b[0m\n\u001b[0;32m--> 812\u001b[0;31m         response = rpc(\n\u001b[0m\u001b[1;32m    813\u001b[0m             \u001b[0mrequest\u001b[0m\u001b[0;34m,\u001b[0m\u001b[0;34m\u001b[0m\u001b[0;34m\u001b[0m\u001b[0m\n\u001b[1;32m    814\u001b[0m             \u001b[0mretry\u001b[0m\u001b[0;34m=\u001b[0m\u001b[0mretry\u001b[0m\u001b[0;34m,\u001b[0m\u001b[0;34m\u001b[0m\u001b[0;34m\u001b[0m\u001b[0m\n",
            "\u001b[0;32m/usr/local/lib/python3.10/dist-packages/google/api_core/gapic_v1/method.py\u001b[0m in \u001b[0;36m__call__\u001b[0;34m(self, timeout, retry, *args, **kwargs)\u001b[0m\n\u001b[1;32m    111\u001b[0m             \u001b[0mkwargs\u001b[0m\u001b[0;34m[\u001b[0m\u001b[0;34m\"metadata\"\u001b[0m\u001b[0;34m]\u001b[0m \u001b[0;34m=\u001b[0m \u001b[0mmetadata\u001b[0m\u001b[0;34m\u001b[0m\u001b[0;34m\u001b[0m\u001b[0m\n\u001b[1;32m    112\u001b[0m \u001b[0;34m\u001b[0m\u001b[0m\n\u001b[0;32m--> 113\u001b[0;31m         \u001b[0;32mreturn\u001b[0m \u001b[0mwrapped_func\u001b[0m\u001b[0;34m(\u001b[0m\u001b[0;34m*\u001b[0m\u001b[0margs\u001b[0m\u001b[0;34m,\u001b[0m \u001b[0;34m**\u001b[0m\u001b[0mkwargs\u001b[0m\u001b[0;34m)\u001b[0m\u001b[0;34m\u001b[0m\u001b[0;34m\u001b[0m\u001b[0m\n\u001b[0m\u001b[1;32m    114\u001b[0m \u001b[0;34m\u001b[0m\u001b[0m\n\u001b[1;32m    115\u001b[0m \u001b[0;34m\u001b[0m\u001b[0m\n",
            "\u001b[0;32m/usr/local/lib/python3.10/dist-packages/google/api_core/retry.py\u001b[0m in \u001b[0;36mretry_wrapped_func\u001b[0;34m(*args, **kwargs)\u001b[0m\n\u001b[1;32m    347\u001b[0m                 \u001b[0mself\u001b[0m\u001b[0;34m.\u001b[0m\u001b[0m_initial\u001b[0m\u001b[0;34m,\u001b[0m \u001b[0mself\u001b[0m\u001b[0;34m.\u001b[0m\u001b[0m_maximum\u001b[0m\u001b[0;34m,\u001b[0m \u001b[0mmultiplier\u001b[0m\u001b[0;34m=\u001b[0m\u001b[0mself\u001b[0m\u001b[0;34m.\u001b[0m\u001b[0m_multiplier\u001b[0m\u001b[0;34m\u001b[0m\u001b[0;34m\u001b[0m\u001b[0m\n\u001b[1;32m    348\u001b[0m             )\n\u001b[0;32m--> 349\u001b[0;31m             return retry_target(\n\u001b[0m\u001b[1;32m    350\u001b[0m                 \u001b[0mtarget\u001b[0m\u001b[0;34m,\u001b[0m\u001b[0;34m\u001b[0m\u001b[0;34m\u001b[0m\u001b[0m\n\u001b[1;32m    351\u001b[0m                 \u001b[0mself\u001b[0m\u001b[0;34m.\u001b[0m\u001b[0m_predicate\u001b[0m\u001b[0;34m,\u001b[0m\u001b[0;34m\u001b[0m\u001b[0;34m\u001b[0m\u001b[0m\n",
            "\u001b[0;32m/usr/local/lib/python3.10/dist-packages/google/api_core/retry.py\u001b[0m in \u001b[0;36mretry_target\u001b[0;34m(target, predicate, sleep_generator, timeout, on_error, **kwargs)\u001b[0m\n\u001b[1;32m    189\u001b[0m     \u001b[0;32mfor\u001b[0m \u001b[0msleep\u001b[0m \u001b[0;32min\u001b[0m \u001b[0msleep_generator\u001b[0m\u001b[0;34m:\u001b[0m\u001b[0;34m\u001b[0m\u001b[0;34m\u001b[0m\u001b[0m\n\u001b[1;32m    190\u001b[0m         \u001b[0;32mtry\u001b[0m\u001b[0;34m:\u001b[0m\u001b[0;34m\u001b[0m\u001b[0;34m\u001b[0m\u001b[0m\n\u001b[0;32m--> 191\u001b[0;31m             \u001b[0;32mreturn\u001b[0m \u001b[0mtarget\u001b[0m\u001b[0;34m(\u001b[0m\u001b[0;34m)\u001b[0m\u001b[0;34m\u001b[0m\u001b[0;34m\u001b[0m\u001b[0m\n\u001b[0m\u001b[1;32m    192\u001b[0m \u001b[0;34m\u001b[0m\u001b[0m\n\u001b[1;32m    193\u001b[0m         \u001b[0;31m# pylint: disable=broad-except\u001b[0m\u001b[0;34m\u001b[0m\u001b[0;34m\u001b[0m\u001b[0m\n",
            "\u001b[0;32m/usr/local/lib/python3.10/dist-packages/google/api_core/timeout.py\u001b[0m in \u001b[0;36mfunc_with_timeout\u001b[0;34m(*args, **kwargs)\u001b[0m\n\u001b[1;32m    118\u001b[0m                 \u001b[0mkwargs\u001b[0m\u001b[0;34m[\u001b[0m\u001b[0;34m\"timeout\"\u001b[0m\u001b[0;34m]\u001b[0m \u001b[0;34m=\u001b[0m \u001b[0mmax\u001b[0m\u001b[0;34m(\u001b[0m\u001b[0;36m0\u001b[0m\u001b[0;34m,\u001b[0m \u001b[0mself\u001b[0m\u001b[0;34m.\u001b[0m\u001b[0m_timeout\u001b[0m \u001b[0;34m-\u001b[0m \u001b[0mtime_since_first_attempt\u001b[0m\u001b[0;34m)\u001b[0m\u001b[0;34m\u001b[0m\u001b[0;34m\u001b[0m\u001b[0m\n\u001b[1;32m    119\u001b[0m \u001b[0;34m\u001b[0m\u001b[0m\n\u001b[0;32m--> 120\u001b[0;31m             \u001b[0;32mreturn\u001b[0m \u001b[0mfunc\u001b[0m\u001b[0;34m(\u001b[0m\u001b[0;34m*\u001b[0m\u001b[0margs\u001b[0m\u001b[0;34m,\u001b[0m \u001b[0;34m**\u001b[0m\u001b[0mkwargs\u001b[0m\u001b[0;34m)\u001b[0m\u001b[0;34m\u001b[0m\u001b[0;34m\u001b[0m\u001b[0m\n\u001b[0m\u001b[1;32m    121\u001b[0m \u001b[0;34m\u001b[0m\u001b[0m\n\u001b[1;32m    122\u001b[0m         \u001b[0;32mreturn\u001b[0m \u001b[0mfunc_with_timeout\u001b[0m\u001b[0;34m\u001b[0m\u001b[0;34m\u001b[0m\u001b[0m\n",
            "\u001b[0;32m/usr/local/lib/python3.10/dist-packages/google/api_core/grpc_helpers.py\u001b[0m in \u001b[0;36merror_remapped_callable\u001b[0;34m(*args, **kwargs)\u001b[0m\n\u001b[1;32m     70\u001b[0m     \u001b[0;32mdef\u001b[0m \u001b[0merror_remapped_callable\u001b[0m\u001b[0;34m(\u001b[0m\u001b[0;34m*\u001b[0m\u001b[0margs\u001b[0m\u001b[0;34m,\u001b[0m \u001b[0;34m**\u001b[0m\u001b[0mkwargs\u001b[0m\u001b[0;34m)\u001b[0m\u001b[0;34m:\u001b[0m\u001b[0;34m\u001b[0m\u001b[0;34m\u001b[0m\u001b[0m\n\u001b[1;32m     71\u001b[0m         \u001b[0;32mtry\u001b[0m\u001b[0;34m:\u001b[0m\u001b[0;34m\u001b[0m\u001b[0;34m\u001b[0m\u001b[0m\n\u001b[0;32m---> 72\u001b[0;31m             \u001b[0;32mreturn\u001b[0m \u001b[0mcallable_\u001b[0m\u001b[0;34m(\u001b[0m\u001b[0;34m*\u001b[0m\u001b[0margs\u001b[0m\u001b[0;34m,\u001b[0m \u001b[0;34m**\u001b[0m\u001b[0mkwargs\u001b[0m\u001b[0;34m)\u001b[0m\u001b[0;34m\u001b[0m\u001b[0;34m\u001b[0m\u001b[0m\n\u001b[0m\u001b[1;32m     73\u001b[0m         \u001b[0;32mexcept\u001b[0m \u001b[0mgrpc\u001b[0m\u001b[0;34m.\u001b[0m\u001b[0mRpcError\u001b[0m \u001b[0;32mas\u001b[0m \u001b[0mexc\u001b[0m\u001b[0;34m:\u001b[0m\u001b[0;34m\u001b[0m\u001b[0;34m\u001b[0m\u001b[0m\n\u001b[1;32m     74\u001b[0m             \u001b[0;32mraise\u001b[0m \u001b[0mexceptions\u001b[0m\u001b[0;34m.\u001b[0m\u001b[0mfrom_grpc_error\u001b[0m\u001b[0;34m(\u001b[0m\u001b[0mexc\u001b[0m\u001b[0;34m)\u001b[0m \u001b[0;32mfrom\u001b[0m \u001b[0mexc\u001b[0m\u001b[0;34m\u001b[0m\u001b[0;34m\u001b[0m\u001b[0m\n",
            "\u001b[0;32m/usr/local/lib/python3.10/dist-packages/google/ai/generativelanguage_v1beta/services/generative_service/transports/rest.py\u001b[0m in \u001b[0;36m__call__\u001b[0;34m(self, request, retry, timeout, metadata)\u001b[0m\n\u001b[1;32m    833\u001b[0m             \u001b[0mheaders\u001b[0m \u001b[0;34m=\u001b[0m \u001b[0mdict\u001b[0m\u001b[0;34m(\u001b[0m\u001b[0mmetadata\u001b[0m\u001b[0;34m)\u001b[0m\u001b[0;34m\u001b[0m\u001b[0;34m\u001b[0m\u001b[0m\n\u001b[1;32m    834\u001b[0m             \u001b[0mheaders\u001b[0m\u001b[0;34m[\u001b[0m\u001b[0;34m\"Content-Type\"\u001b[0m\u001b[0;34m]\u001b[0m \u001b[0;34m=\u001b[0m \u001b[0;34m\"application/json\"\u001b[0m\u001b[0;34m\u001b[0m\u001b[0;34m\u001b[0m\u001b[0m\n\u001b[0;32m--> 835\u001b[0;31m             response = getattr(self._session, method)(\n\u001b[0m\u001b[1;32m    836\u001b[0m                 \u001b[0;34m\"{host}{uri}\"\u001b[0m\u001b[0;34m.\u001b[0m\u001b[0mformat\u001b[0m\u001b[0;34m(\u001b[0m\u001b[0mhost\u001b[0m\u001b[0;34m=\u001b[0m\u001b[0mself\u001b[0m\u001b[0;34m.\u001b[0m\u001b[0m_host\u001b[0m\u001b[0;34m,\u001b[0m \u001b[0muri\u001b[0m\u001b[0;34m=\u001b[0m\u001b[0muri\u001b[0m\u001b[0;34m)\u001b[0m\u001b[0;34m,\u001b[0m\u001b[0;34m\u001b[0m\u001b[0;34m\u001b[0m\u001b[0m\n\u001b[1;32m    837\u001b[0m                 \u001b[0mtimeout\u001b[0m\u001b[0;34m=\u001b[0m\u001b[0mtimeout\u001b[0m\u001b[0;34m,\u001b[0m\u001b[0;34m\u001b[0m\u001b[0;34m\u001b[0m\u001b[0m\n",
            "\u001b[0;32m/usr/local/lib/python3.10/dist-packages/requests/sessions.py\u001b[0m in \u001b[0;36mpost\u001b[0;34m(self, url, data, json, **kwargs)\u001b[0m\n\u001b[1;32m    635\u001b[0m         \"\"\"\n\u001b[1;32m    636\u001b[0m \u001b[0;34m\u001b[0m\u001b[0m\n\u001b[0;32m--> 637\u001b[0;31m         \u001b[0;32mreturn\u001b[0m \u001b[0mself\u001b[0m\u001b[0;34m.\u001b[0m\u001b[0mrequest\u001b[0m\u001b[0;34m(\u001b[0m\u001b[0;34m\"POST\"\u001b[0m\u001b[0;34m,\u001b[0m \u001b[0murl\u001b[0m\u001b[0;34m,\u001b[0m \u001b[0mdata\u001b[0m\u001b[0;34m=\u001b[0m\u001b[0mdata\u001b[0m\u001b[0;34m,\u001b[0m \u001b[0mjson\u001b[0m\u001b[0;34m=\u001b[0m\u001b[0mjson\u001b[0m\u001b[0;34m,\u001b[0m \u001b[0;34m**\u001b[0m\u001b[0mkwargs\u001b[0m\u001b[0;34m)\u001b[0m\u001b[0;34m\u001b[0m\u001b[0;34m\u001b[0m\u001b[0m\n\u001b[0m\u001b[1;32m    638\u001b[0m \u001b[0;34m\u001b[0m\u001b[0m\n\u001b[1;32m    639\u001b[0m     \u001b[0;32mdef\u001b[0m \u001b[0mput\u001b[0m\u001b[0;34m(\u001b[0m\u001b[0mself\u001b[0m\u001b[0;34m,\u001b[0m \u001b[0murl\u001b[0m\u001b[0;34m,\u001b[0m \u001b[0mdata\u001b[0m\u001b[0;34m=\u001b[0m\u001b[0;32mNone\u001b[0m\u001b[0;34m,\u001b[0m \u001b[0;34m**\u001b[0m\u001b[0mkwargs\u001b[0m\u001b[0;34m)\u001b[0m\u001b[0;34m:\u001b[0m\u001b[0;34m\u001b[0m\u001b[0;34m\u001b[0m\u001b[0m\n",
            "\u001b[0;32m/usr/local/lib/python3.10/dist-packages/google/auth/transport/requests.py\u001b[0m in \u001b[0;36mrequest\u001b[0;34m(self, method, url, data, headers, max_allowed_time, timeout, **kwargs)\u001b[0m\n\u001b[1;32m    539\u001b[0m \u001b[0;34m\u001b[0m\u001b[0m\n\u001b[1;32m    540\u001b[0m         \u001b[0;32mwith\u001b[0m \u001b[0mTimeoutGuard\u001b[0m\u001b[0;34m(\u001b[0m\u001b[0mremaining_time\u001b[0m\u001b[0;34m)\u001b[0m \u001b[0;32mas\u001b[0m \u001b[0mguard\u001b[0m\u001b[0;34m:\u001b[0m\u001b[0;34m\u001b[0m\u001b[0;34m\u001b[0m\u001b[0m\n\u001b[0;32m--> 541\u001b[0;31m             response = super(AuthorizedSession, self).request(\n\u001b[0m\u001b[1;32m    542\u001b[0m                 \u001b[0mmethod\u001b[0m\u001b[0;34m,\u001b[0m\u001b[0;34m\u001b[0m\u001b[0;34m\u001b[0m\u001b[0m\n\u001b[1;32m    543\u001b[0m                 \u001b[0murl\u001b[0m\u001b[0;34m,\u001b[0m\u001b[0;34m\u001b[0m\u001b[0;34m\u001b[0m\u001b[0m\n",
            "\u001b[0;32m/usr/local/lib/python3.10/dist-packages/requests/sessions.py\u001b[0m in \u001b[0;36mrequest\u001b[0;34m(self, method, url, params, data, headers, cookies, files, auth, timeout, allow_redirects, proxies, hooks, stream, verify, cert, json)\u001b[0m\n\u001b[1;32m    587\u001b[0m         }\n\u001b[1;32m    588\u001b[0m         \u001b[0msend_kwargs\u001b[0m\u001b[0;34m.\u001b[0m\u001b[0mupdate\u001b[0m\u001b[0;34m(\u001b[0m\u001b[0msettings\u001b[0m\u001b[0;34m)\u001b[0m\u001b[0;34m\u001b[0m\u001b[0;34m\u001b[0m\u001b[0m\n\u001b[0;32m--> 589\u001b[0;31m         \u001b[0mresp\u001b[0m \u001b[0;34m=\u001b[0m \u001b[0mself\u001b[0m\u001b[0;34m.\u001b[0m\u001b[0msend\u001b[0m\u001b[0;34m(\u001b[0m\u001b[0mprep\u001b[0m\u001b[0;34m,\u001b[0m \u001b[0;34m**\u001b[0m\u001b[0msend_kwargs\u001b[0m\u001b[0;34m)\u001b[0m\u001b[0;34m\u001b[0m\u001b[0;34m\u001b[0m\u001b[0m\n\u001b[0m\u001b[1;32m    590\u001b[0m \u001b[0;34m\u001b[0m\u001b[0m\n\u001b[1;32m    591\u001b[0m         \u001b[0;32mreturn\u001b[0m \u001b[0mresp\u001b[0m\u001b[0;34m\u001b[0m\u001b[0;34m\u001b[0m\u001b[0m\n",
            "\u001b[0;32m/usr/local/lib/python3.10/dist-packages/requests/sessions.py\u001b[0m in \u001b[0;36msend\u001b[0;34m(self, request, **kwargs)\u001b[0m\n\u001b[1;32m    701\u001b[0m \u001b[0;34m\u001b[0m\u001b[0m\n\u001b[1;32m    702\u001b[0m         \u001b[0;31m# Send the request\u001b[0m\u001b[0;34m\u001b[0m\u001b[0;34m\u001b[0m\u001b[0m\n\u001b[0;32m--> 703\u001b[0;31m         \u001b[0mr\u001b[0m \u001b[0;34m=\u001b[0m \u001b[0madapter\u001b[0m\u001b[0;34m.\u001b[0m\u001b[0msend\u001b[0m\u001b[0;34m(\u001b[0m\u001b[0mrequest\u001b[0m\u001b[0;34m,\u001b[0m \u001b[0;34m**\u001b[0m\u001b[0mkwargs\u001b[0m\u001b[0;34m)\u001b[0m\u001b[0;34m\u001b[0m\u001b[0;34m\u001b[0m\u001b[0m\n\u001b[0m\u001b[1;32m    704\u001b[0m \u001b[0;34m\u001b[0m\u001b[0m\n\u001b[1;32m    705\u001b[0m         \u001b[0;31m# Total elapsed time of the request (approximately)\u001b[0m\u001b[0;34m\u001b[0m\u001b[0;34m\u001b[0m\u001b[0m\n",
            "\u001b[0;32m/usr/local/lib/python3.10/dist-packages/requests/adapters.py\u001b[0m in \u001b[0;36msend\u001b[0;34m(self, request, stream, timeout, verify, cert, proxies)\u001b[0m\n\u001b[1;32m    484\u001b[0m \u001b[0;34m\u001b[0m\u001b[0m\n\u001b[1;32m    485\u001b[0m         \u001b[0;32mtry\u001b[0m\u001b[0;34m:\u001b[0m\u001b[0;34m\u001b[0m\u001b[0;34m\u001b[0m\u001b[0m\n\u001b[0;32m--> 486\u001b[0;31m             resp = conn.urlopen(\n\u001b[0m\u001b[1;32m    487\u001b[0m                 \u001b[0mmethod\u001b[0m\u001b[0;34m=\u001b[0m\u001b[0mrequest\u001b[0m\u001b[0;34m.\u001b[0m\u001b[0mmethod\u001b[0m\u001b[0;34m,\u001b[0m\u001b[0;34m\u001b[0m\u001b[0;34m\u001b[0m\u001b[0m\n\u001b[1;32m    488\u001b[0m                 \u001b[0murl\u001b[0m\u001b[0;34m=\u001b[0m\u001b[0murl\u001b[0m\u001b[0;34m,\u001b[0m\u001b[0;34m\u001b[0m\u001b[0;34m\u001b[0m\u001b[0m\n",
            "\u001b[0;32m/usr/local/lib/python3.10/dist-packages/urllib3/connectionpool.py\u001b[0m in \u001b[0;36murlopen\u001b[0;34m(self, method, url, body, headers, retries, redirect, assert_same_host, timeout, pool_timeout, release_conn, chunked, body_pos, preload_content, decode_content, **response_kw)\u001b[0m\n\u001b[1;32m    789\u001b[0m \u001b[0;34m\u001b[0m\u001b[0m\n\u001b[1;32m    790\u001b[0m             \u001b[0;31m# Make the request on the HTTPConnection object\u001b[0m\u001b[0;34m\u001b[0m\u001b[0;34m\u001b[0m\u001b[0m\n\u001b[0;32m--> 791\u001b[0;31m             response = self._make_request(\n\u001b[0m\u001b[1;32m    792\u001b[0m                 \u001b[0mconn\u001b[0m\u001b[0;34m,\u001b[0m\u001b[0;34m\u001b[0m\u001b[0;34m\u001b[0m\u001b[0m\n\u001b[1;32m    793\u001b[0m                 \u001b[0mmethod\u001b[0m\u001b[0;34m,\u001b[0m\u001b[0;34m\u001b[0m\u001b[0;34m\u001b[0m\u001b[0m\n",
            "\u001b[0;32m/usr/local/lib/python3.10/dist-packages/urllib3/connectionpool.py\u001b[0m in \u001b[0;36m_make_request\u001b[0;34m(self, conn, method, url, body, headers, retries, timeout, chunked, response_conn, preload_content, decode_content, enforce_content_length)\u001b[0m\n\u001b[1;32m    535\u001b[0m         \u001b[0;31m# Receive the response from the server\u001b[0m\u001b[0;34m\u001b[0m\u001b[0;34m\u001b[0m\u001b[0m\n\u001b[1;32m    536\u001b[0m         \u001b[0;32mtry\u001b[0m\u001b[0;34m:\u001b[0m\u001b[0;34m\u001b[0m\u001b[0;34m\u001b[0m\u001b[0m\n\u001b[0;32m--> 537\u001b[0;31m             \u001b[0mresponse\u001b[0m \u001b[0;34m=\u001b[0m \u001b[0mconn\u001b[0m\u001b[0;34m.\u001b[0m\u001b[0mgetresponse\u001b[0m\u001b[0;34m(\u001b[0m\u001b[0;34m)\u001b[0m\u001b[0;34m\u001b[0m\u001b[0;34m\u001b[0m\u001b[0m\n\u001b[0m\u001b[1;32m    538\u001b[0m         \u001b[0;32mexcept\u001b[0m \u001b[0;34m(\u001b[0m\u001b[0mBaseSSLError\u001b[0m\u001b[0;34m,\u001b[0m \u001b[0mOSError\u001b[0m\u001b[0;34m)\u001b[0m \u001b[0;32mas\u001b[0m \u001b[0me\u001b[0m\u001b[0;34m:\u001b[0m\u001b[0;34m\u001b[0m\u001b[0;34m\u001b[0m\u001b[0m\n\u001b[1;32m    539\u001b[0m             \u001b[0mself\u001b[0m\u001b[0;34m.\u001b[0m\u001b[0m_raise_timeout\u001b[0m\u001b[0;34m(\u001b[0m\u001b[0merr\u001b[0m\u001b[0;34m=\u001b[0m\u001b[0me\u001b[0m\u001b[0;34m,\u001b[0m \u001b[0murl\u001b[0m\u001b[0;34m=\u001b[0m\u001b[0murl\u001b[0m\u001b[0;34m,\u001b[0m \u001b[0mtimeout_value\u001b[0m\u001b[0;34m=\u001b[0m\u001b[0mread_timeout\u001b[0m\u001b[0;34m)\u001b[0m\u001b[0;34m\u001b[0m\u001b[0;34m\u001b[0m\u001b[0m\n",
            "\u001b[0;32m/usr/local/lib/python3.10/dist-packages/urllib3/connection.py\u001b[0m in \u001b[0;36mgetresponse\u001b[0;34m(self)\u001b[0m\n\u001b[1;32m    459\u001b[0m \u001b[0;34m\u001b[0m\u001b[0m\n\u001b[1;32m    460\u001b[0m         \u001b[0;31m# Get the response from http.client.HTTPConnection\u001b[0m\u001b[0;34m\u001b[0m\u001b[0;34m\u001b[0m\u001b[0m\n\u001b[0;32m--> 461\u001b[0;31m         \u001b[0mhttplib_response\u001b[0m \u001b[0;34m=\u001b[0m \u001b[0msuper\u001b[0m\u001b[0;34m(\u001b[0m\u001b[0;34m)\u001b[0m\u001b[0;34m.\u001b[0m\u001b[0mgetresponse\u001b[0m\u001b[0;34m(\u001b[0m\u001b[0;34m)\u001b[0m\u001b[0;34m\u001b[0m\u001b[0;34m\u001b[0m\u001b[0m\n\u001b[0m\u001b[1;32m    462\u001b[0m \u001b[0;34m\u001b[0m\u001b[0m\n\u001b[1;32m    463\u001b[0m         \u001b[0;32mtry\u001b[0m\u001b[0;34m:\u001b[0m\u001b[0;34m\u001b[0m\u001b[0;34m\u001b[0m\u001b[0m\n",
            "\u001b[0;32m/usr/lib/python3.10/http/client.py\u001b[0m in \u001b[0;36mgetresponse\u001b[0;34m(self)\u001b[0m\n\u001b[1;32m   1373\u001b[0m         \u001b[0;32mtry\u001b[0m\u001b[0;34m:\u001b[0m\u001b[0;34m\u001b[0m\u001b[0;34m\u001b[0m\u001b[0m\n\u001b[1;32m   1374\u001b[0m             \u001b[0;32mtry\u001b[0m\u001b[0;34m:\u001b[0m\u001b[0;34m\u001b[0m\u001b[0;34m\u001b[0m\u001b[0m\n\u001b[0;32m-> 1375\u001b[0;31m                 \u001b[0mresponse\u001b[0m\u001b[0;34m.\u001b[0m\u001b[0mbegin\u001b[0m\u001b[0;34m(\u001b[0m\u001b[0;34m)\u001b[0m\u001b[0;34m\u001b[0m\u001b[0;34m\u001b[0m\u001b[0m\n\u001b[0m\u001b[1;32m   1376\u001b[0m             \u001b[0;32mexcept\u001b[0m \u001b[0mConnectionError\u001b[0m\u001b[0;34m:\u001b[0m\u001b[0;34m\u001b[0m\u001b[0;34m\u001b[0m\u001b[0m\n\u001b[1;32m   1377\u001b[0m                 \u001b[0mself\u001b[0m\u001b[0;34m.\u001b[0m\u001b[0mclose\u001b[0m\u001b[0;34m(\u001b[0m\u001b[0;34m)\u001b[0m\u001b[0;34m\u001b[0m\u001b[0;34m\u001b[0m\u001b[0m\n",
            "\u001b[0;32m/usr/lib/python3.10/http/client.py\u001b[0m in \u001b[0;36mbegin\u001b[0;34m(self)\u001b[0m\n\u001b[1;32m    316\u001b[0m         \u001b[0;31m# read until we get a non-100 response\u001b[0m\u001b[0;34m\u001b[0m\u001b[0;34m\u001b[0m\u001b[0m\n\u001b[1;32m    317\u001b[0m         \u001b[0;32mwhile\u001b[0m \u001b[0;32mTrue\u001b[0m\u001b[0;34m:\u001b[0m\u001b[0;34m\u001b[0m\u001b[0;34m\u001b[0m\u001b[0m\n\u001b[0;32m--> 318\u001b[0;31m             \u001b[0mversion\u001b[0m\u001b[0;34m,\u001b[0m \u001b[0mstatus\u001b[0m\u001b[0;34m,\u001b[0m \u001b[0mreason\u001b[0m \u001b[0;34m=\u001b[0m \u001b[0mself\u001b[0m\u001b[0;34m.\u001b[0m\u001b[0m_read_status\u001b[0m\u001b[0;34m(\u001b[0m\u001b[0;34m)\u001b[0m\u001b[0;34m\u001b[0m\u001b[0;34m\u001b[0m\u001b[0m\n\u001b[0m\u001b[1;32m    319\u001b[0m             \u001b[0;32mif\u001b[0m \u001b[0mstatus\u001b[0m \u001b[0;34m!=\u001b[0m \u001b[0mCONTINUE\u001b[0m\u001b[0;34m:\u001b[0m\u001b[0;34m\u001b[0m\u001b[0;34m\u001b[0m\u001b[0m\n\u001b[1;32m    320\u001b[0m                 \u001b[0;32mbreak\u001b[0m\u001b[0;34m\u001b[0m\u001b[0;34m\u001b[0m\u001b[0m\n",
            "\u001b[0;32m/usr/lib/python3.10/http/client.py\u001b[0m in \u001b[0;36m_read_status\u001b[0;34m(self)\u001b[0m\n\u001b[1;32m    277\u001b[0m \u001b[0;34m\u001b[0m\u001b[0m\n\u001b[1;32m    278\u001b[0m     \u001b[0;32mdef\u001b[0m \u001b[0m_read_status\u001b[0m\u001b[0;34m(\u001b[0m\u001b[0mself\u001b[0m\u001b[0;34m)\u001b[0m\u001b[0;34m:\u001b[0m\u001b[0;34m\u001b[0m\u001b[0;34m\u001b[0m\u001b[0m\n\u001b[0;32m--> 279\u001b[0;31m         \u001b[0mline\u001b[0m \u001b[0;34m=\u001b[0m \u001b[0mstr\u001b[0m\u001b[0;34m(\u001b[0m\u001b[0mself\u001b[0m\u001b[0;34m.\u001b[0m\u001b[0mfp\u001b[0m\u001b[0;34m.\u001b[0m\u001b[0mreadline\u001b[0m\u001b[0;34m(\u001b[0m\u001b[0m_MAXLINE\u001b[0m \u001b[0;34m+\u001b[0m \u001b[0;36m1\u001b[0m\u001b[0;34m)\u001b[0m\u001b[0;34m,\u001b[0m \u001b[0;34m\"iso-8859-1\"\u001b[0m\u001b[0;34m)\u001b[0m\u001b[0;34m\u001b[0m\u001b[0;34m\u001b[0m\u001b[0m\n\u001b[0m\u001b[1;32m    280\u001b[0m         \u001b[0;32mif\u001b[0m \u001b[0mlen\u001b[0m\u001b[0;34m(\u001b[0m\u001b[0mline\u001b[0m\u001b[0;34m)\u001b[0m \u001b[0;34m>\u001b[0m \u001b[0m_MAXLINE\u001b[0m\u001b[0;34m:\u001b[0m\u001b[0;34m\u001b[0m\u001b[0;34m\u001b[0m\u001b[0m\n\u001b[1;32m    281\u001b[0m             \u001b[0;32mraise\u001b[0m \u001b[0mLineTooLong\u001b[0m\u001b[0;34m(\u001b[0m\u001b[0;34m\"status line\"\u001b[0m\u001b[0;34m)\u001b[0m\u001b[0;34m\u001b[0m\u001b[0;34m\u001b[0m\u001b[0m\n",
            "\u001b[0;32m/usr/lib/python3.10/socket.py\u001b[0m in \u001b[0;36mreadinto\u001b[0;34m(self, b)\u001b[0m\n\u001b[1;32m    703\u001b[0m         \u001b[0;32mwhile\u001b[0m \u001b[0;32mTrue\u001b[0m\u001b[0;34m:\u001b[0m\u001b[0;34m\u001b[0m\u001b[0;34m\u001b[0m\u001b[0m\n\u001b[1;32m    704\u001b[0m             \u001b[0;32mtry\u001b[0m\u001b[0;34m:\u001b[0m\u001b[0;34m\u001b[0m\u001b[0;34m\u001b[0m\u001b[0m\n\u001b[0;32m--> 705\u001b[0;31m                 \u001b[0;32mreturn\u001b[0m \u001b[0mself\u001b[0m\u001b[0;34m.\u001b[0m\u001b[0m_sock\u001b[0m\u001b[0;34m.\u001b[0m\u001b[0mrecv_into\u001b[0m\u001b[0;34m(\u001b[0m\u001b[0mb\u001b[0m\u001b[0;34m)\u001b[0m\u001b[0;34m\u001b[0m\u001b[0;34m\u001b[0m\u001b[0m\n\u001b[0m\u001b[1;32m    706\u001b[0m             \u001b[0;32mexcept\u001b[0m \u001b[0mtimeout\u001b[0m\u001b[0;34m:\u001b[0m\u001b[0;34m\u001b[0m\u001b[0;34m\u001b[0m\u001b[0m\n\u001b[1;32m    707\u001b[0m                 \u001b[0mself\u001b[0m\u001b[0;34m.\u001b[0m\u001b[0m_timeout_occurred\u001b[0m \u001b[0;34m=\u001b[0m \u001b[0;32mTrue\u001b[0m\u001b[0;34m\u001b[0m\u001b[0;34m\u001b[0m\u001b[0m\n",
            "\u001b[0;31mKeyboardInterrupt\u001b[0m: "
          ]
        }
      ],
      "source": [
        "draft=starting_draft\n",
        "continuation = generate_with_retry(model, continuation_prompt.format(premise=premise, outline=outline, story_text=draft)).text\n",
        "pprint(continuation)"
      ]
    },
    {
      "cell_type": "markdown",
      "metadata": {
        "id": "tSaCALtC-AK-"
      },
      "source": [
        "### Let's finish writing the story."
      ]
    },
    {
      "cell_type": "markdown",
      "metadata": {
        "id": "TqqDFSJlS-rR"
      },
      "source": [
        "After the iterative generation process is complete, the draft will contain the full story along with the \"IAMDONE\" signal at the end. The last part of this cell removes the \"IAMDONE\" signal and trims any unnecessary whitespace from the beginning and end of the draft, resulting in the final draft."
      ]
    },
    {
      "cell_type": "code",
      "execution_count": 13,
      "metadata": {
        "id": "InQpwsWSz8vO",
        "colab": {
          "base_uri": "https://localhost:8080/",
          "height": 1000
        },
        "outputId": "d67b367e-d434-470f-dc2f-eadea8dd7c32"
      },
      "outputs": [
        {
          "output_type": "stream",
          "name": "stdout",
          "text": [
            "('In the hallowed halls of academia, where the pursuit of knowledge was an '\n",
            " 'eternal flame, Dr. Anya Petrova stood out as a luminary in the firmament of '\n",
            " 'philosophical inquiry. Her piercing intellect and relentless quest for truth '\n",
            " 'had earned her accolades and admiration within the cloistered confines of '\n",
            " 'the university. Yet, beneath the veneer of success, a profound unease '\n",
            " 'stirred within her, a gnawing sense that the traditional methods of '\n",
            " 'philosophical discourse were shackles that constrained her yearning to '\n",
            " 'unravel the complexities of the human condition.\\n'\n",
            " '\\n'\n",
            " \"Anya's mind was a restless sea, constantly churning with ideas and theories, \"\n",
            " 'seeking connections that lay beyond the grasp of conventional approaches. '\n",
            " 'She longed for a tool that could transcend the limitations of language and '\n",
            " 'illuminate the hidden structures that governed human behavior. In her '\n",
            " 'solitude, she stumbled upon a tantalizing possibility – the nascent field of '\n",
            " 'computational philosophy, where the rigor of mathematics intertwined with '\n",
            " 'the profound insights of humanistic thought.\\n'\n",
            " '\\n'\n",
            " 'It was a revelation that struck her like a bolt from the blue, igniting a '\n",
            " 'fire within her soul. In that moment, Anya realized that the future of '\n",
            " 'philosophical inquiry lay not in the solitary musings of scholars but in the '\n",
            " 'collaborative embrace of computation and human understanding. With a '\n",
            " 'newfound fervor, she immersed herself in the intricate world of algorithms '\n",
            " 'and data structures, seeking a way to bridge the gap between abstract '\n",
            " 'theories and the messy reality of human experience.\\n'\n",
            " '\\n'\n",
            " 'As days turned into nights, Anya toiled tirelessly in her laboratory, her '\n",
            " 'fingers dancing across the keyboard with the precision of a virtuoso. She '\n",
            " 'spent countless hours poring over reams of data, searching for patterns and '\n",
            " 'connections that could shed light on the enigmatic tapestry of human '\n",
            " 'morality. It was a painstaking process, fraught with setbacks and dead ends, '\n",
            " 'but her determination never wavered.\\n'\n",
            " '\\n'\n",
            " 'One fateful evening, as the moon cast its ethereal glow upon the sleeping '\n",
            " 'city, a breakthrough emerged from the depths of her computations. Anya had '\n",
            " 'stumbled upon a novel computational model that captured the dynamics and '\n",
            " 'complexities of human moral systems. It was a revelation that filled her '\n",
            " 'with both exhilaration and trepidation. For in that model, she glimpsed the '\n",
            " 'potential to revolutionize the very foundations of ethical inquiry.\\n'\n",
            " '\\n'\n",
            " 'With newfound confidence, Anya embarked on a journey to share her discovery '\n",
            " 'with the world. She presented her findings at conferences and published '\n",
            " 'ground-breaking papers, igniting a spark that quickly spread throughout the '\n",
            " 'philosophical community. Her work became the catalyst for a paradigm shift, '\n",
            " 'inspiring a new generation of scholars to embrace the power of computation '\n",
            " 'in unraveling the mysteries of the human mind and behavior.\\n'\n",
            " '\\n'\n",
            " '**Chapter 2: Unveiling the Structure of Normative Systems**\\n'\n",
            " '\\n'\n",
            " \"As Anya's revolutionary work gained traction, she delved deeper into the \"\n",
            " 'intricate labyrinth of human moral systems, driven by an insatiable thirst '\n",
            " 'to comprehend their underlying mechanisms. Her computational models grew in '\n",
            " 'complexity, capturing not only the static patterns of ethical principles but '\n",
            " 'also the dynamic interplay of emotions, cognitions, and social interactions '\n",
            " 'that shape moral decision-making.\\n'\n",
            " '\\n'\n",
            " 'One of the most profound insights emerged from her analysis of data on '\n",
            " 'real-world ethical dilemmas. Anya discovered that moral judgments were not '\n",
            " 'solely dictated by abstract principles or logical reasoning. Instead, they '\n",
            " 'were influenced by a myriad of contextual factors, often subconscious and '\n",
            " 'implicit. These factors included the emotional resonance of the situation, '\n",
            " \"the perceived social norms, and the individuals' own values and \"\n",
            " 'experiences.\\n'\n",
            " '\\n'\n",
            " 'To capture this intricate interplay, Anya developed a novel computational '\n",
            " 'framework that integrated elements of cognitive psychology, social network '\n",
            " 'analysis, and reinforcement learning. The framework allowed her to simulate '\n",
            " 'the decision-making process of individuals faced with ethical dilemmas, '\n",
            " 'taking into account the complex cognitive and emotional landscape in which '\n",
            " 'they operate.\\n'\n",
            " '\\n'\n",
            " \"Through extensive simulations, Anya's framework revealed hidden patterns and \"\n",
            " 'dependencies within moral systems. She identified key factors that made '\n",
            " 'certain ethical principles more likely to be upheld or violated in different '\n",
            " 'contexts. For example, she discovered that empathy played a crucial role in '\n",
            " 'promoting altruistic behavior, while social conformity tended to diminish '\n",
            " 'the likelihood of individuals challenging unjust norms.\\n'\n",
            " '\\n'\n",
            " \"Anya's computational models also shed light on the evolution of moral \"\n",
            " 'systems over time. By simulating the interactions of individuals within a '\n",
            " 'society, she observed how cultural norms and ethical values emerged, spread, '\n",
            " 'and adapted to changing circumstances. This dynamic perspective challenged '\n",
            " 'the traditional view of morality as a static and absolute set of rules, '\n",
            " 'revealing instead its fluid and malleable nature.\\n'\n",
            " '\\n'\n",
            " 'Inspired by these insights, Anya embarked on a collaboration with a team of '\n",
            " 'cognitive neuroscientists. Together, they designed experiments to '\n",
            " 'investigate the neural correlates of moral decision-making. Using advanced '\n",
            " 'neuroimaging techniques, they measured brain activity patterns in '\n",
            " 'individuals presented with ethical dilemmas.\\n'\n",
            " '\\n'\n",
            " 'The results of their study provided striking confirmation of the '\n",
            " 'computational models. They found that different moral principles activated '\n",
            " 'distinct neural networks in the brain, with empathy and perspective-taking '\n",
            " 'being particularly associated with prosocial behaviors. Moreover, they '\n",
            " 'observed that the strength of these neural activations varied depending on '\n",
            " 'the contextual factors simulated in the computational models.\\n'\n",
            " '\\n'\n",
            " 'The convergence of computational philosophy and cognitive neuroscience '\n",
            " 'provided irrefutable evidence for the existence of a complex neurocognitive '\n",
            " 'architecture underlying human morality. This groundbreaking work laid the '\n",
            " 'foundation for a new understanding of the moral mind, opening up '\n",
            " 'unprecedented avenues for exploring the neural and psychological mechanisms '\n",
            " 'that shape our ethical choices.\\n'\n",
            " '\\n'\n",
            " '**Chapter 3: The Emergence of Computational Ethics**\\n'\n",
            " '\\n'\n",
            " \"Anya's groundbreaking work on the computational modeling of normative \"\n",
            " 'systems had profound implications beyond the ivory tower of academia. As her '\n",
            " 'research gained recognition, she was increasingly sought after by '\n",
            " 'policymakers, ethicists, and individuals grappling with complex ethical '\n",
            " 'dilemmas in the real world.\\n'\n",
            " '\\n'\n",
            " 'Recognizing the potential of computational philosophy to inform ethical '\n",
            " 'decision-making, Anya embarked on a new chapter in her journey, bridging the '\n",
            " 'gap between theoretical inquiry and practical applications. She envisioned a '\n",
            " 'future where computer-aided ethical decision-making systems would empower '\n",
            " 'individuals and societies to make wiser and more ethical choices.\\n'\n",
            " '\\n'\n",
            " 'With a team of software engineers and data scientists, Anya founded an '\n",
            " 'interdisciplinary research institute dedicated to developing and deploying '\n",
            " \"computational ethics systems. The institute's mission was to harness the \"\n",
            " 'power of computation to analyze ethical dilemmas, provide guidance based on '\n",
            " 'normative principles and empirical data, and foster a culture of ethical '\n",
            " 'deliberation.\\n'\n",
            " '\\n'\n",
            " 'One of the first projects undertaken by the institute was the development of '\n",
            " 'a computational ethics platform for use in healthcare settings. The platform '\n",
            " 'integrated a vast database of ethical principles, case studies, and medical '\n",
            " 'data with advanced algorithms to assess the ethical implications of '\n",
            " 'different treatment options.\\n'\n",
            " '\\n'\n",
            " 'Through a user-friendly interface, healthcare professionals could input '\n",
            " \"relevant information about a patient's condition, values, and preferences. \"\n",
            " 'The platform would then generate a comprehensive report outlining the '\n",
            " 'ethical considerations associated with each treatment option, identifying '\n",
            " 'potential conflicts of interest, and suggesting courses of action that '\n",
            " 'aligned with ethical principles and best practices.\\n'\n",
            " '\\n'\n",
            " 'The computational ethics platform was met with widespread acclaim within the '\n",
            " 'medical community. It provided healthcare professionals with a valuable tool '\n",
            " 'for navigating the complex ethical challenges they faced on a daily basis. '\n",
            " 'By making ethical considerations explicit and transparent, the platform '\n",
            " 'fostered informed decision-making and improved patient outcomes.\\n'\n",
            " '\\n'\n",
            " 'Buoyed by the success of the healthcare platform, Anya and her team turned '\n",
            " 'their attention to developing computational ethics systems for other '\n",
            " 'domains, including business, law, and public policy. They collaborated with '\n",
            " 'experts in various fields to create tailored tools that addressed the '\n",
            " 'specific ethical challenges faced in each context.\\n'\n",
            " '\\n'\n",
            " 'For example, they developed a computational ethics platform for use in '\n",
            " 'corporate boardrooms. The platform analyzed financial data, stakeholder '\n",
            " 'interests, and industry best practices to assess the ethical implications of '\n",
            " 'business decisions. It provided guidance on how to balance profit motives '\n",
            " 'with social responsibility and environmental sustainability.\\n'\n",
            " '\\n'\n",
            " \"In the realm of law, the institute's researchers created a computational \"\n",
            " 'ethics system to assist judges in sentencing defendants. The system '\n",
            " 'integrated legal precedents, sentencing data, and offender characteristics '\n",
            " 'to identify sentencing options that were both fair and consistent with '\n",
            " 'ethical principles. It took into account mitigating and aggravating '\n",
            " 'circumstances, as well as the potential impact of sentencing on the '\n",
            " \"offender's rehabilitation and society as a whole.\\n\"\n",
            " '\\n'\n",
            " 'The introduction of computational ethics systems into various domains raised '\n",
            " 'important questions about their reliability, accountability, and potential '\n",
            " 'biases. Anya and her team recognized the need to develop rigorous '\n",
            " 'methodologies for evaluating and mitigating the risks associated with these '\n",
            " 'systems.\\n'\n",
            " '\\n'\n",
            " 'They established a multidisciplinary ethics review board to oversee the '\n",
            " 'development and deployment of computational ethics systems. The board '\n",
            " 'consisted of philosophers, computer scientists, ethicists, and '\n",
            " 'representatives from various stakeholder groups. It ensured that the systems '\n",
            " 'were developed in a transparent and responsible manner, aligned with ethical '\n",
            " 'principles, and subject to ongoing evaluation and improvement.\\n'\n",
            " '\\n'\n",
            " \"Anya's vision of a future empowered by computational ethics was gradually \"\n",
            " 'becoming a reality. Computer-aided ethical decision-making systems were '\n",
            " 'transforming the way individuals and societies grappled with complex ethical '\n",
            " 'dilemmas, fostering more informed and ethical choices across a wide range of '\n",
            " 'domains.\\n'\n",
            " '\\n'\n",
            " '**Chapter 4: The Simulation of Moral Agency**\\n'\n",
            " '\\n'\n",
            " \"As Anya's computational ethics systems gained widespread adoption, she \"\n",
            " 'realized that there was still a crucial piece missing in her quest to '\n",
            " 'enhance human ethical decision-making. While her models could analyze '\n",
            " 'ethical dilemmas and provide guidance, they did not fully capture the '\n",
            " 'complexities of human moral agency.\\n'\n",
            " '\\n'\n",
            " 'Moral agency, she believed, was not merely about following ethical '\n",
            " 'principles or adhering to social norms. It involved the ability to reason '\n",
            " 'about ethical dilemmas, deliberate about alternative courses of action, and '\n",
            " \"make choices that aligned with one's values and goals.\\n\"\n",
            " '\\n'\n",
            " 'To fully understand and simulate moral agency, Anya turned to the field of '\n",
            " 'cognitive science. She collaborated with leading neuroscientists, '\n",
            " 'psychologists, and philosophers to develop a computational framework that '\n",
            " 'integrated insights from cognitive psychology, philosophy of mind, and moral '\n",
            " 'psychology.\\n'\n",
            " '\\n'\n",
            " 'The framework, known as the Cognitive Moral Simulator (CMS), aimed to '\n",
            " 'capture the cognitive and emotional processes underlying moral '\n",
            " 'decision-making. It incorporated modules that represented:\\n'\n",
            " '\\n'\n",
            " '- **Moral reasoning:** The ability to identify and evaluate ethical '\n",
            " 'principles, generate alternative courses of action, and anticipate their '\n",
            " 'consequences.\\n'\n",
            " '- **Emotion and empathy:** The role of emotions, such as empathy and guilt, '\n",
            " 'in shaping moral judgments and behavior.\\n'\n",
            " '- **Social cognition:** The influence of social norms, cultural values, and '\n",
            " 'interpersonal relationships on moral decision-making.\\n'\n",
            " '- **Personal values and goals:** The importance of individual values, '\n",
            " 'aspirations, and long-term goals in guiding moral choices.\\n'\n",
            " '\\n'\n",
            " 'To develop the CMS, Anya and her team collected extensive data on human '\n",
            " 'moral decision-making. They conducted experiments and interviews, observing '\n",
            " \"people's behavior in various ethical dilemmas. They also used neuroimaging \"\n",
            " 'techniques to measure brain activity during moral reasoning and '\n",
            " 'decision-making.\\n'\n",
            " '\\n'\n",
            " 'The resulting CMS was a sophisticated computational model that could '\n",
            " 'simulate the cognitive and emotional processes involved in moral agency. It '\n",
            " 'allowed researchers to explore the interplay of different factors in shaping '\n",
            " 'moral judgments and behavior.\\n'\n",
            " '\\n'\n",
            " 'One of the most striking insights emerged from simulations of the CMS in '\n",
            " 'different cultural and social contexts. The model revealed that while '\n",
            " 'certain moral principles were universally endorsed, their interpretation and '\n",
            " 'application varied significantly across cultures. For example, the principle '\n",
            " 'of fairness might be interpreted differently in individualistic versus '\n",
            " 'collectivist societies.\\n'\n",
            " '\\n'\n",
            " 'The CMS also shed light on the role of empathy and perspective-taking in '\n",
            " 'moral decision-making. Simulations showed that individuals were more likely '\n",
            " 'to make altruistic choices when they could vividly imagine the experiences '\n",
            " 'and emotions of others. This insight emphasized the importance of fostering '\n",
            " 'empathy and perspective-taking abilities in moral education.\\n'\n",
            " '\\n'\n",
            " 'Another significant finding was the identification of cognitive biases and '\n",
            " 'heuristics that could influence moral judgment. The CMS revealed that people '\n",
            " 'often relied on simplified mental shortcuts, such as using stereotypes or '\n",
            " 'making intuitive judgments, which could lead to errors in ethical '\n",
            " 'decision-making.\\n'\n",
            " '\\n'\n",
            " 'The Cognitive Moral Simulator became a powerful tool for researchers and '\n",
            " 'educators alike. It enabled them to investigate complex ethical dilemmas, '\n",
            " 'test different moral theories, and design interventions to promote ethical '\n",
            " 'behavior. The CMS also provided a unique platform for exploring the '\n",
            " 'development of moral reasoning and empathy in children and adolescents.\\n'\n",
            " '\\n'\n",
            " \"Anya's work on simulating moral agency had profound implications for the \"\n",
            " 'field of moral psychology and beyond. It challenged traditional views of '\n",
            " 'morality as a static and rule-based system, highlighting instead the dynamic '\n",
            " 'and contextual nature of moral decision-making. Moreover, it opened up new '\n",
            " 'avenues for understanding the interplay of cognition, emotion, and social '\n",
            " 'factors in shaping human behavior.\\n'\n",
            " '\\n'\n",
            " 'Inspired by the success of the CMS, Anya and her team embarked on a new '\n",
            " 'project: developing a virtual reality simulation that allowed individuals to '\n",
            " 'experience moral dilemmas firsthand. The simulation, known as the Moral '\n",
            " 'Maze, placed users in a virtual environment filled with ethical challenges.\\n'\n",
            " '\\n'\n",
            " 'Users could interact with virtual characters, make decisions that had '\n",
            " 'ethical consequences, and experience the emotional and social impact of '\n",
            " 'their choices. The Moral Maze was designed to foster empathy, '\n",
            " 'perspective-taking, and ethical reasoning skills.\\n'\n",
            " '\\n'\n",
            " 'Extensive research and testing showed that the Moral Maze was an effective '\n",
            " 'tool for promoting moral development. It helped participants understand the '\n",
            " 'complexity of ethical dilemmas, reflect on their own values and biases, and '\n",
            " 'develop strategies for making more ethical choices in real-world '\n",
            " 'situations.\\n'\n",
            " '\\n'\n",
            " 'The Moral Maze became a popular tool in schools, universities, and corporate '\n",
            " 'training programs. It provided a safe and engaging environment for '\n",
            " \"individuals to explore ethical issues and develop their moral agency. Anya's \"\n",
            " 'vision of empowering individuals to make wiser and more ethical choices was '\n",
            " 'becoming a reality.\\n'\n",
            " '\\n'\n",
            " '**Chapter 5: The Promise and Perils of Computational Philosophy**\\n'\n",
            " '\\n'\n",
            " \"As Anya's groundbreaking work on computational philosophy and ethics gained \"\n",
            " 'global recognition, she found herself at the center of a burgeoning '\n",
            " 'intellectual movement. Scholars, policymakers, and individuals from all '\n",
            " 'walks of life sought her counsel, eager to harness the transformative power '\n",
            " 'of these novel tools.\\n'\n",
            " '\\n'\n",
            " 'Amidst the accolades and enthusiasm, however, Anya remained deeply aware of '\n",
            " 'the profound ethical implications and potential risks associated with '\n",
            " 'computational philosophy. She recognized that these powerful tools could be '\n",
            " 'used not only for good but also for ill, depending on the intentions and '\n",
            " 'values of those who wielded them.\\n'\n",
            " '\\n'\n",
            " 'One of the most pressing concerns was the potential for computational ethics '\n",
            " 'systems to perpetuate biases and unfairness. If the algorithms and data used '\n",
            " 'to train these systems were biased, the resulting outputs could perpetuate '\n",
            " 'systemic injustices. For example, a sentencing algorithm trained on '\n",
            " 'historical data that reflected racial disparities could perpetuate those '\n",
            " 'disparities in future sentencing decisions.\\n'\n",
            " '\\n'\n",
            " 'To mitigate this risk, Anya and her team developed rigorous methodologies '\n",
            " 'for evaluating the fairness and accountability of computational ethics '\n",
            " 'systems. They established a set of ethical guidelines that all developers '\n",
            " 'and users of these systems were required to adhere to. These guidelines '\n",
            " 'emphasized the importance of transparency, accountability, and ongoing '\n",
            " 'evaluation.\\n'\n",
            " '\\n'\n",
            " 'Another concern was the potential for computational philosophy to dehumanize '\n",
            " 'ethical decision-making. Some critics argued that relying on algorithms and '\n",
            " 'data to make ethical judgments could lead to a loss of empathy and '\n",
            " 'compassion. They feared that individuals might become overly reliant on '\n",
            " 'these systems and neglect their own moral intuitions and values.\\n'\n",
            " '\\n'\n",
            " 'Anya acknowledged the validity of these concerns. She emphasized that '\n",
            " 'computational ethics systems were not meant to replace human judgment but '\n",
            " 'rather to complement it. These systems could provide valuable insights and '\n",
            " 'guidance, but they should never be used as a substitute for thoughtful '\n",
            " 'deliberation and human compassion.\\n'\n",
            " '\\n'\n",
            " 'To foster a responsible and ethical approach to computational philosophy, '\n",
            " 'Anya founded an international organization dedicated to promoting best '\n",
            " 'practices and ethical considerations in the field. The organization brought '\n",
            " 'together researchers, policymakers, and ethicists from around the world to '\n",
            " 'establish standards, guidelines, and educational programs.\\n'\n",
            " '\\n'\n",
            " 'Through her leadership and tireless advocacy, Anya ensured that the '\n",
            " 'development and deployment of computational philosophy and ethics were '\n",
            " 'guided by principles of fairness, accountability, and human-centered values. '\n",
            " 'She believed that these tools had the potential to empower individuals and '\n",
            " 'societies to make wiser and more ethical choices, but only if used '\n",
            " 'responsibly and ethically.\\n'\n",
            " '\\n'\n",
            " '**Chapter 6: The Transformation of Philosophical Education**\\n'\n",
            " '\\n'\n",
            " 'Inspired by the transformative potential of computational philosophy, Anya '\n",
            " 'turned her attention to the realm of education. She believed that '\n",
            " 'incorporating computational thinking and modeling into philosophical '\n",
            " 'curricula would revolutionize the way students engaged with and understood '\n",
            " 'ethical concepts and theories.\\n'\n",
            " '\\n'\n",
            " 'Working closely with educators and curriculum designers, Anya developed a '\n",
            " 'series of innovative teaching modules that integrated computational '\n",
            " 'approaches into traditional philosophical courses. These modules introduced '\n",
            " 'students to the basics of computational modeling, data analysis, and ethical '\n",
            " 'reasoning.\\n'\n",
            " '\\n'\n",
            " 'Through hands-on exercises and simulations, students learned how to '\n",
            " 'construct and analyze computational models of ethical dilemmas. They '\n",
            " 'explored how different factors, such as emotions, social norms, and personal '\n",
            " 'values, influenced moral decision-making.\\n'\n",
            " '\\n'\n",
            " \"Anya's teaching modules proved to be highly effective in fostering students' \"\n",
            " 'critical thinking, analytical reasoning, and ethical sensitivity. Students '\n",
            " 'who participated in these modules demonstrated a deeper understanding of '\n",
            " 'ethical concepts and a greater ability to apply ethical principles to '\n",
            " 'real-world situations.\\n'\n",
            " '\\n'\n",
            " 'Encouraged by the success of her teaching modules, Anya embarked on a '\n",
            " 'larger-scale initiative to transform philosophical education worldwide. She '\n",
            " 'partnered with universities, schools, and educational organizations to '\n",
            " 'establish computational philosophy programs and curricula.\\n'\n",
            " '\\n'\n",
            " 'These programs provided students with a comprehensive understanding of '\n",
            " 'computational philosophy and its applications in various domains, including '\n",
            " 'ethics, law, business, and public policy. Graduates of these programs were '\n",
            " 'highly sought after by employers who recognized the value of their unique '\n",
            " 'skills and perspectives.\\n'\n",
            " '\\n'\n",
            " 'The integration of computational philosophy into philosophical education not '\n",
            " \"only enhanced students' understanding of ethical concepts but also prepared \"\n",
            " 'them to navigate the complex ethical challenges of the 21st century. Anya '\n",
            " 'believed that the future belonged to those who possessed the ability to '\n",
            " 'think critically, analyze data, and make ethical decisions in an '\n",
            " 'increasingly computational world.\\n'\n",
            " '\\n'\n",
            " '**Epilogue: The Legacy of Computational Philosophy**\\n'\n",
            " '\\n'\n",
            " 'In the twilight of her illustrious career, Anya Petrova reflected on the '\n",
            " 'profound impact of computational philosophy on the field and beyond. She had '\n",
            " 'witnessed firsthand how these novel tools had revolutionized ethical '\n",
            " 'inquiry, transformed philosophical education, and empowered individuals and '\n",
            " 'societies to make wiser and more ethical choices.\\n'\n",
            " '\\n'\n",
            " 'The legacy of computational philosophy extended far beyond the ivory tower. '\n",
            " \"Anya's work had sparked a global movement that embraced the power of \"\n",
            " 'computation to enhance human understanding and promote a more just and '\n",
            " 'equitable world.\\n'\n",
            " '\\n'\n",
            " 'Computational ethics systems continued to evolve, becoming increasingly '\n",
            " 'sophisticated and capable of addressing even the most complex ethical '\n",
            " 'dilemmas. These systems were deployed in a wide range of domains, from '\n",
            " 'healthcare and law to business and public policy.\\n'\n",
            " '\\n'\n",
            " \"Anya's vision of a future where computational philosophy would empower \"\n",
            " 'individuals and societies to make wiser and more ethical choices had come to '\n",
            " 'fruition. The seeds she had sown had blossomed into a vibrant and '\n",
            " 'transformative movement that would continue to shape human civilization for '\n",
            " 'generations to come.\\n'\n",
            " '\\n'\n",
            " 'In the annals of history, Anya Petrova would be remembered not only as a '\n",
            " 'pioneering philosopher but also as a visionary who had forged a new path for '\n",
            " 'the human pursuit of knowledge and ethical understanding. Her legacy would '\n",
            " 'endure as a testament to the transformative power of computational thinking '\n",
            " 'in shaping a better future for humanity.')\n"
          ]
        }
      ],
      "source": [
        "# Add the continuation to the initial draft, keep building the story until we see 'IAMDONE'\n",
        "draft = draft + '\\n\\n' + continuation\n",
        "\n",
        "while 'IAMDONE' not in continuation:\n",
        "  continuation = generate_with_retry(model, continuation_prompt.format(premise=premise, outline=outline, story_text=draft)).text\n",
        "  draft = draft + '\\n\\n' + continuation\n",
        "\n",
        "# Remove 'IAMDONE' and print the final story\n",
        "final = draft.replace('IAMDONE', '').strip()\n",
        "pprint(final)"
      ]
    },
    {
      "cell_type": "markdown",
      "metadata": {
        "id": "JIuWuoFBTHxR"
      },
      "source": [
        "Language models like Gemini process text in units called tokens. For Gemini models, each token is equivalent to about 4 characters.\n",
        "\n",
        "Gemini-1.0-pro has an output limit of 2048 tokens per generation call. This means that each individual prompt response cannot exceed this limit. By using iterative generation, we can create a story that is much longer than 2048 tokens by building it piece by piece.\n",
        "\n",
        "Let's see how many tokens the final story is. Is it longer than 2048 tokens?"
      ]
    },
    {
      "cell_type": "code",
      "execution_count": 14,
      "metadata": {
        "id": "a_8ng8OYYMrV",
        "colab": {
          "base_uri": "https://localhost:8080/",
          "height": 52
        },
        "outputId": "debd496d-5ca8-4b23-e38b-0485025c49ed"
      },
      "outputs": [
        {
          "output_type": "stream",
          "name": "stdout",
          "text": [
            "total_tokens: 3787\n",
            "\n"
          ]
        }
      ],
      "source": [
        "# Check the number of tokens in the final story\n",
        "# gemini-1.0-pro output token limit is 2048\n",
        "print(model.count_tokens(final))"
      ]
    },
    {
      "cell_type": "markdown",
      "metadata": {
        "id": "wYGX5SaCKczO"
      },
      "source": [
        "## Next Steps\n",
        "\n",
        "We hope you enjoyed this notebook! As an exercise, you can try to adjust the continuation prompt to take human-in-the-loop input to steer the narrative."
      ]
    }
  ],
  "metadata": {
    "colab": {
      "name": "Story_Writing_with_Prompt_Chaining.ipynb",
      "provenance": []
    },
    "kernelspec": {
      "display_name": "Python 3",
      "name": "python3"
    }
  },
  "nbformat": 4,
  "nbformat_minor": 0
}